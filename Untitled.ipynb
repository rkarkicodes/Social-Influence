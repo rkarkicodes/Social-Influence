{
 "cells": [
  {
   "cell_type": "code",
   "execution_count": 27,
   "metadata": {
    "collapsed": false
   },
   "outputs": [
    {
     "name": "stdout",
     "output_type": "stream",
     "text": [
      "(('NodeId', None, None, None, None, None, None), ('Degree', None, None, None, None, None, None))\n"
     ]
    }
   ],
   "source": [
    "import sqlite3\n",
    "\n",
    "__connection=sqlite3.connect('facebook.db')\n",
    "__cursor=__connection.cursor()\n",
    "\n",
    "a=__cursor.execute(\"select * from nodes_back_up\")\n",
    "t=\"test0\"\n",
    "# __cursor.execute(\"alter table 'nodes' add column {} integer\".format(t))\n",
    "\n",
    "\n",
    "print a.description"
   ]
  },
  {
   "cell_type": "code",
   "execution_count": null,
   "metadata": {
    "collapsed": true
   },
   "outputs": [],
   "source": []
  },
  {
   "cell_type": "code",
   "execution_count": null,
   "metadata": {
    "collapsed": true
   },
   "outputs": [],
   "source": []
  }
 ],
 "metadata": {
  "kernelspec": {
   "display_name": "Python 2",
   "language": "python",
   "name": "python2"
  },
  "language_info": {
   "codemirror_mode": {
    "name": "ipython",
    "version": 2
   },
   "file_extension": ".py",
   "mimetype": "text/x-python",
   "name": "python",
   "nbconvert_exporter": "python",
   "pygments_lexer": "ipython2",
   "version": "2.7.6"
  }
 },
 "nbformat": 4,
 "nbformat_minor": 0
}
